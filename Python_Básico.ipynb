{
  "nbformat": 4,
  "nbformat_minor": 0,
  "metadata": {
    "colab": {
      "provenance": [],
      "toc_visible": true,
      "authorship_tag": "ABX9TyP1JltfvOzcRete00klGNs3",
      "include_colab_link": true
    },
    "kernelspec": {
      "name": "python3",
      "display_name": "Python 3"
    },
    "language_info": {
      "name": "python"
    }
  },
  "cells": [
    {
      "cell_type": "markdown",
      "metadata": {
        "id": "view-in-github",
        "colab_type": "text"
      },
      "source": [
        "<a href=\"https://colab.research.google.com/github/iagoit/data_projects/blob/main/Python_B%C3%A1sico.ipynb\" target=\"_parent\"><img src=\"https://colab.research.google.com/assets/colab-badge.svg\" alt=\"Open In Colab\"/></a>"
      ]
    },
    {
      "cell_type": "markdown",
      "source": [
        "# Aula 01"
      ],
      "metadata": {
        "id": "AUgr_IbKaOpf"
      }
    },
    {
      "cell_type": "markdown",
      "source": [
        "## Conteúdo"
      ],
      "metadata": {
        "id": "InS1vZ_liMdZ"
      }
    },
    {
      "cell_type": "markdown",
      "source": [
        "### Hello World"
      ],
      "metadata": {
        "id": "CnXYxfGkiQxH"
      }
    },
    {
      "cell_type": "code",
      "source": [
        "# printando um Hello World\n",
        "print (\"Hello World\")"
      ],
      "metadata": {
        "colab": {
          "base_uri": "https://localhost:8080/"
        },
        "id": "VTJQuSDKiOr3",
        "outputId": "b1a24460-607b-4402-ee24-1c7080ee1f21"
      },
      "execution_count": 1,
      "outputs": [
        {
          "output_type": "stream",
          "name": "stdout",
          "text": [
            "Hello World\n"
          ]
        }
      ]
    },
    {
      "cell_type": "markdown",
      "source": [
        "### Operações Matemáticas"
      ],
      "metadata": {
        "id": "hsirUCGriVMk"
      }
    },
    {
      "cell_type": "code",
      "source": [
        "# soma\n",
        "1+1\n",
        "print(\"Soma 1+1 =\", 1+1)"
      ],
      "metadata": {
        "colab": {
          "base_uri": "https://localhost:8080/"
        },
        "id": "Soif3zamiUOn",
        "outputId": "353830c3-996a-4737-b40b-b9306e79009c"
      },
      "execution_count": 2,
      "outputs": [
        {
          "output_type": "stream",
          "name": "stdout",
          "text": [
            "Soma 1+1 = 2\n"
          ]
        }
      ]
    },
    {
      "cell_type": "code",
      "source": [
        "# subtração\n",
        "2-1\n",
        "print(\"Subtração 2-1 =\", 2-1)"
      ],
      "metadata": {
        "colab": {
          "base_uri": "https://localhost:8080/"
        },
        "id": "07jTMZeyieau",
        "outputId": "0145b2e9-ca51-4e06-8a33-4f68b952fe1a"
      },
      "execution_count": 3,
      "outputs": [
        {
          "output_type": "stream",
          "name": "stdout",
          "text": [
            "Subtração 2-1 = 1\n"
          ]
        }
      ]
    },
    {
      "cell_type": "code",
      "source": [
        "# multiplicação\n",
        "2*3\n",
        "print(\"Multiplicação 2*3 =\", 2*3)"
      ],
      "metadata": {
        "colab": {
          "base_uri": "https://localhost:8080/"
        },
        "id": "HdC-gFeDigwN",
        "outputId": "70e6f70d-6680-482d-87d9-831629efb713"
      },
      "execution_count": 4,
      "outputs": [
        {
          "output_type": "stream",
          "name": "stdout",
          "text": [
            "Multiplicação 2*3 = 6\n"
          ]
        }
      ]
    },
    {
      "cell_type": "code",
      "source": [
        "# divisão errada\n",
        "6/2\n",
        "print(\"Divisão 6/2 =\", 6/2)"
      ],
      "metadata": {
        "colab": {
          "base_uri": "https://localhost:8080/"
        },
        "id": "-yuQ03Q0ih6x",
        "outputId": "56f8ab94-e71a-4c5b-dc56-e10f3c3a9aa4"
      },
      "execution_count": 5,
      "outputs": [
        {
          "output_type": "stream",
          "name": "stdout",
          "text": [
            "Divisão 6/2 = 3.0\n"
          ]
        }
      ]
    },
    {
      "cell_type": "code",
      "source": [
        "# divisão certa\n",
        "6/2\n",
        "print(\"Divisão(sem float) 6/2 =\", 6//2)"
      ],
      "metadata": {
        "colab": {
          "base_uri": "https://localhost:8080/"
        },
        "id": "Z2BDXcdQijDP",
        "outputId": "b4262e9c-69f6-4247-9d90-eb948b76a03b"
      },
      "execution_count": 6,
      "outputs": [
        {
          "output_type": "stream",
          "name": "stdout",
          "text": [
            "Divisão(sem float) 6/2 = 3\n"
          ]
        }
      ]
    },
    {
      "cell_type": "code",
      "source": [
        "# resto\n",
        "5%3\n",
        "print (\"Resto da divisão 5%3 =\", 5%3)"
      ],
      "metadata": {
        "colab": {
          "base_uri": "https://localhost:8080/"
        },
        "id": "rPDCK7C-ikMu",
        "outputId": "04055afe-627b-47ba-e644-0b56527d948b"
      },
      "execution_count": 7,
      "outputs": [
        {
          "output_type": "stream",
          "name": "stdout",
          "text": [
            "Resto da divisão 5%3 = 2\n"
          ]
        }
      ]
    },
    {
      "cell_type": "code",
      "source": [
        "# expoente\n",
        "3^3\n",
        "print (\"Expoente 3^3 =\", 3**3)"
      ],
      "metadata": {
        "colab": {
          "base_uri": "https://localhost:8080/"
        },
        "id": "GgixHQ1Mikqe",
        "outputId": "8be796c4-f5b7-4f93-9693-d89e3e626bce"
      },
      "execution_count": 8,
      "outputs": [
        {
          "output_type": "stream",
          "name": "stdout",
          "text": [
            "Expoente 3^3 = 27\n"
          ]
        }
      ]
    },
    {
      "cell_type": "markdown",
      "source": [
        "### Váriaveis"
      ],
      "metadata": {
        "id": "GC_C0RHXinHV"
      }
    },
    {
      "cell_type": "code",
      "source": [
        "# printando um nome inputado\n",
        "nome = input(\"Digite seu nome: \")\n",
        "print(\"Bem vindo \", nome, \", é um prazer recebe-lo!\")"
      ],
      "metadata": {
        "colab": {
          "base_uri": "https://localhost:8080/"
        },
        "id": "FKNeS6Y_ipHD",
        "outputId": "7d5ed971-c94e-4d38-9522-c708cee6371c"
      },
      "execution_count": 9,
      "outputs": [
        {
          "output_type": "stream",
          "name": "stdout",
          "text": [
            "Digite seu nome: Nome\n",
            "Bem vindo  Nome , é um prazer recebe-lo!\n"
          ]
        }
      ]
    },
    {
      "cell_type": "code",
      "source": [
        "# somando duas váriaveis\n",
        "a = input(\"Digite um número de 1 a 10: \")\n",
        "b = input(\"Digite um número de 11 a 20: \")\n",
        "print(\"A soma dos dois números é: \", a+b)\n",
        "# Neste caso deu um pequeno probleminha, já que o input lê uma String, logo temos que transformar essa String em um inteiro"
      ],
      "metadata": {
        "colab": {
          "base_uri": "https://localhost:8080/"
        },
        "id": "hsH8pEFaislw",
        "outputId": "d48ce382-f308-4434-903c-d8ff9791f820"
      },
      "execution_count": 10,
      "outputs": [
        {
          "output_type": "stream",
          "name": "stdout",
          "text": [
            "Digite um número de 1 a 10: 5\n",
            "Digite um número de 11 a 20: 15\n",
            "A soma dos dois números é:  515\n"
          ]
        }
      ]
    },
    {
      "cell_type": "code",
      "source": [
        "# arrumando o problema do input\n",
        "a = input(\"Digite um número de 1 a 10: \")\n",
        "a = int(a)\n",
        "# ou\n",
        "b = int(input(\"Digite um número de 11 a 20: \"))\n",
        "print(\"A soma dos dois números é: \", a+b)"
      ],
      "metadata": {
        "colab": {
          "base_uri": "https://localhost:8080/"
        },
        "id": "0uqavyPPiwA_",
        "outputId": "7042c2a9-bc81-47c7-e40d-48726e503665"
      },
      "execution_count": 11,
      "outputs": [
        {
          "output_type": "stream",
          "name": "stdout",
          "text": [
            "Digite um número de 1 a 10: 5\n",
            "Digite um número de 11 a 20: 15\n",
            "A soma dos dois números é:  20\n"
          ]
        }
      ]
    },
    {
      "cell_type": "markdown",
      "source": [
        "## Exercícios"
      ],
      "metadata": {
        "id": "REVLVZRdi7Bv"
      }
    },
    {
      "cell_type": "code",
      "source": [
        "# Faça um programa que receba o nome de uma pessoa e faça um saudação\n",
        "nome = input(\"Digite o seu nome: \")\n",
        "print(\"Seja muito bem vindo Sr(a)\", nome)"
      ],
      "metadata": {
        "colab": {
          "base_uri": "https://localhost:8080/"
        },
        "id": "xBTi9QSdjASO",
        "outputId": "7204bfad-f4dc-4ef8-ceb9-85d7d4cb4901"
      },
      "execution_count": 12,
      "outputs": [
        {
          "output_type": "stream",
          "name": "stdout",
          "text": [
            "Digite o seu nome: Nome\n",
            "Seja muito bem vindo Sr(a) Nome\n"
          ]
        }
      ]
    },
    {
      "cell_type": "code",
      "source": [
        "# Faça um programa que receba o nome e a idade da pessoa. Depois exiba uma mensagem\n",
        "nome = input(\"Digite o seu nome: \")\n",
        "anos = input(\"Digite sua idade: \")\n",
        "print (\"Olá\", nome,\"bom saber que você tem\",anos,\"anos. Seja bem vindo(a).\")"
      ],
      "metadata": {
        "colab": {
          "base_uri": "https://localhost:8080/"
        },
        "id": "M0jjLb7mjAma",
        "outputId": "d05aaf25-bf43-41d0-8fa2-012ba618dd3a"
      },
      "execution_count": 13,
      "outputs": [
        {
          "output_type": "stream",
          "name": "stdout",
          "text": [
            "Digite o seu nome: Nome\n",
            "Digite sua idade: 20\n",
            "Olá Nome bom saber que você tem 20 anos. Seja bem vindo(a).\n"
          ]
        }
      ]
    },
    {
      "cell_type": "code",
      "source": [
        "# Faça um programa que receba o raio de uma circuferência em centímetros.\n",
        "# Retorne para o usuário qual a área e perímetro desta circuferência.\n",
        "r = float(input(\"Digite o raio em centímetros: \"))\n",
        "\n",
        "pi = 3.14\n",
        "area = pi * r ** 2\n",
        "perimetro = 2 * pi * r\n",
        "\n",
        "print(f\"Área: {area:.2f} cm²\")\n",
        "print(f\"Perimetro: {perimetro:.2f} cm\")"
      ],
      "metadata": {
        "colab": {
          "base_uri": "https://localhost:8080/"
        },
        "id": "XFdKuYzljAvs",
        "outputId": "e6961911-81bd-4c79-eac6-f29f9a18f13a"
      },
      "execution_count": 14,
      "outputs": [
        {
          "output_type": "stream",
          "name": "stdout",
          "text": [
            "Digite o raio em centímetros: 55\n",
            "Área: 9498.50 cm²\n",
            "Perimetro: 345.40 cm\n"
          ]
        }
      ]
    },
    {
      "cell_type": "code",
      "source": [
        "# Faça um programa que receba dois valores e some eles\n",
        "a = int(input(\"Digite um número: \"))\n",
        "b = int(input(\"Digite outro número: \"))\n",
        "\n",
        "soma = a+b\n",
        "\n",
        "print(f\"O resultado da soma é: {soma:.2f}\")"
      ],
      "metadata": {
        "colab": {
          "base_uri": "https://localhost:8080/"
        },
        "id": "BSY-SnerjA4r",
        "outputId": "f82e01f6-5093-48a4-ae4b-3e097af3fb6c"
      },
      "execution_count": 15,
      "outputs": [
        {
          "output_type": "stream",
          "name": "stdout",
          "text": [
            "Digite um número: 5\n",
            "Digite outro número: 10\n",
            "O resultado da soma é: 15.00\n"
          ]
        }
      ]
    },
    {
      "cell_type": "code",
      "source": [
        "# Faça um programa que receba dois valores e retorne a potencia deles\n",
        "a = int(input(\"Digite um número: \"))\n",
        "b = int(input(\"Digite outro número: \"))\n",
        "\n",
        "print(\"A potencia dos dois números é: \", a ** b)"
      ],
      "metadata": {
        "colab": {
          "base_uri": "https://localhost:8080/"
        },
        "id": "_V1IECw7jBCJ",
        "outputId": "16d3933c-d56f-480f-9cf3-644e7fcb4ef0"
      },
      "execution_count": 18,
      "outputs": [
        {
          "output_type": "stream",
          "name": "stdout",
          "text": [
            "Digite um número: 3\n",
            "Digite outro número: 3\n",
            "A potencia dos dois números é:  27\n"
          ]
        }
      ]
    },
    {
      "cell_type": "code",
      "source": [
        "# Faça um progrma que receba um número em segundos, converta esse número para horas, minutos e segundos.\n",
        "s = int(input(\"Digite um número em segundos: \"))\n",
        "\n",
        "h = s//3600\n",
        "m = s//60\n",
        "s_restantes = s%60\n",
        "\n",
        "print (f\"{h:02}:{m:02}:{s_restantes:02}\")"
      ],
      "metadata": {
        "colab": {
          "base_uri": "https://localhost:8080/"
        },
        "id": "XheQ5YzljBK2",
        "outputId": "60c651b8-a305-48bd-ca80-5fe334afb6d5"
      },
      "execution_count": 17,
      "outputs": [
        {
          "output_type": "stream",
          "name": "stdout",
          "text": [
            "Digite um número em segundos: 5\n",
            "00:00:05\n"
          ]
        }
      ]
    },
    {
      "cell_type": "markdown",
      "source": [
        "# Aula 02"
      ],
      "metadata": {
        "id": "-udNAVe-aWmQ"
      }
    },
    {
      "cell_type": "markdown",
      "source": [
        "## Conteúdo"
      ],
      "metadata": {
        "id": "-KmvD7Q0jQ7m"
      }
    },
    {
      "cell_type": "markdown",
      "source": [
        "### If Else"
      ],
      "metadata": {
        "id": "J0uGwWJ8jst4"
      }
    },
    {
      "cell_type": "code",
      "source": [
        "# trabalhando com IF\n",
        "idade = int(input(\"Digite sua idade: \"))\n",
        "\n",
        "if idade < 18:\n",
        "    print(\"Não pode dirigir\")\n",
        "elif idade > 65:\n",
        "    print(\"Chega de dirigir, né?\")\n",
        "else:\n",
        "    print(\"Pode dirigir\")"
      ],
      "metadata": {
        "colab": {
          "base_uri": "https://localhost:8080/"
        },
        "id": "Wc2HnrGKjQmy",
        "outputId": "6791af7b-4119-48db-ff74-7c9d00920aed"
      },
      "execution_count": 19,
      "outputs": [
        {
          "output_type": "stream",
          "name": "stdout",
          "text": [
            "Digite sua idade: 20\n",
            "Pode dirigir\n"
          ]
        }
      ]
    },
    {
      "cell_type": "markdown",
      "source": [
        "### While"
      ],
      "metadata": {
        "id": "QIfb5278jxnE"
      }
    },
    {
      "cell_type": "code",
      "source": [
        "# utilizando While, conte de 1 a 10\n",
        "i = 1\n",
        "\n",
        "while i<=10:\n",
        "    print(i)\n",
        "    i += 1"
      ],
      "metadata": {
        "colab": {
          "base_uri": "https://localhost:8080/"
        },
        "id": "COunStQbkEF0",
        "outputId": "4fbfb9ea-b45c-4a89-ce37-56f5178bb372"
      },
      "execution_count": 20,
      "outputs": [
        {
          "output_type": "stream",
          "name": "stdout",
          "text": [
            "1\n",
            "2\n",
            "3\n",
            "4\n",
            "5\n",
            "6\n",
            "7\n",
            "8\n",
            "9\n",
            "10\n"
          ]
        }
      ]
    },
    {
      "cell_type": "code",
      "source": [
        "# utilizando While, conte de 1 a 10 e PARE após o 10\n",
        "i = 1\n",
        "while True:\n",
        "    print(i)\n",
        "    i += 1\n",
        "    if i > 10:\n",
        "        print(\"Parando...\")\n",
        "        break"
      ],
      "metadata": {
        "colab": {
          "base_uri": "https://localhost:8080/"
        },
        "id": "BcwvpN-TkHqB",
        "outputId": "ffefa7ac-f25e-48ca-b597-f056be8f3bc5"
      },
      "execution_count": 22,
      "outputs": [
        {
          "output_type": "stream",
          "name": "stdout",
          "text": [
            "1\n",
            "2\n",
            "3\n",
            "4\n",
            "5\n",
            "6\n",
            "7\n",
            "8\n",
            "9\n",
            "10\n",
            "Parando...\n"
          ]
        }
      ]
    },
    {
      "cell_type": "code",
      "source": [
        "# utilizando While, faça um programa que pergunte para o usuário em que número começa e em qual número termina o laço\n",
        "i = int(input(\"O laço irá começar em qual núemro? \"))\n",
        "j = int(input(\"Você deseja parar quando chegar em qual número? \"))\n",
        "\n",
        "while i <= j:\n",
        "    print(i)\n",
        "    i += 1"
      ],
      "metadata": {
        "colab": {
          "base_uri": "https://localhost:8080/"
        },
        "id": "VX-rhKaekL-I",
        "outputId": "940ac41f-5e34-4a41-b971-b4f399ed4ad4"
      },
      "execution_count": 23,
      "outputs": [
        {
          "output_type": "stream",
          "name": "stdout",
          "text": [
            "O laço irá começar em qual núemro? 5\n",
            "Você deseja parar quando chegar em qual número? 15\n",
            "5\n",
            "6\n",
            "7\n",
            "8\n",
            "9\n",
            "10\n",
            "11\n",
            "12\n",
            "13\n",
            "14\n",
            "15\n"
          ]
        }
      ]
    },
    {
      "cell_type": "code",
      "source": [
        "# utilizando While, faça um programa que pergunte para o usuário em que número começa e em qual número termina o laço sepados por ;\n",
        "i = int(input(\"O laço irá começar em qual núemro? \"))\n",
        "j = int(input(\"Você deseja parar quando chegar em qual número? \"))\n",
        "\n",
        "while i <= j:\n",
        "    print(i, end=\";\")\n",
        "    i += 1"
      ],
      "metadata": {
        "colab": {
          "base_uri": "https://localhost:8080/"
        },
        "id": "K6sETdiEkRTK",
        "outputId": "2cb3c4bb-5f32-418b-fd0a-4474ce9e439e"
      },
      "execution_count": 24,
      "outputs": [
        {
          "output_type": "stream",
          "name": "stdout",
          "text": [
            "O laço irá começar em qual núemro? 10\n",
            "Você deseja parar quando chegar em qual número? 20\n",
            "10;11;12;13;14;15;16;17;18;19;20;"
          ]
        }
      ]
    },
    {
      "cell_type": "markdown",
      "source": [
        "### For"
      ],
      "metadata": {
        "id": "flZ2kNI4jzJG"
      }
    },
    {
      "cell_type": "code",
      "source": [
        "# utilize For para pecorrer uma váriavel\n",
        "nome = \"Nome\"\n",
        "\n",
        "for i in nome:\n",
        "    print(i)"
      ],
      "metadata": {
        "colab": {
          "base_uri": "https://localhost:8080/"
        },
        "id": "nMAOFnVNlIDp",
        "outputId": "e502dd63-c62e-453b-dec2-aa7fac495abf"
      },
      "execution_count": 25,
      "outputs": [
        {
          "output_type": "stream",
          "name": "stdout",
          "text": [
            "N\n",
            "o\n",
            "m\n",
            "e\n"
          ]
        }
      ]
    },
    {
      "cell_type": "code",
      "source": [
        "# utilize For para pecorrer uma váriavel e marcar cada elemento\n",
        "nome = \"Nome\"\n",
        "\n",
        "j = 1\n",
        "\n",
        "for i in nome:\n",
        "    print(\"Elemento\",j,\":\",i,sep = \"\")\n",
        "    j += 1\n"
      ],
      "metadata": {
        "colab": {
          "base_uri": "https://localhost:8080/"
        },
        "id": "9mPrfikIlOUp",
        "outputId": "f2a70d8b-f42b-4890-fb4c-05412b66650c"
      },
      "execution_count": 26,
      "outputs": [
        {
          "output_type": "stream",
          "name": "stdout",
          "text": [
            "Elemento1:N\n",
            "Elemento2:o\n",
            "Elemento3:m\n",
            "Elemento4:e\n"
          ]
        }
      ]
    },
    {
      "cell_type": "code",
      "source": [
        "# utilizando For dentro de um range\n",
        "for i in range(1,11):\n",
        "    print(i)"
      ],
      "metadata": {
        "colab": {
          "base_uri": "https://localhost:8080/"
        },
        "id": "LRo6_WvIlU35",
        "outputId": "b20a67c0-bcf9-4b5a-8b70-566a510e3816"
      },
      "execution_count": 27,
      "outputs": [
        {
          "output_type": "stream",
          "name": "stdout",
          "text": [
            "1\n",
            "2\n",
            "3\n",
            "4\n",
            "5\n",
            "6\n",
            "7\n",
            "8\n",
            "9\n",
            "10\n"
          ]
        }
      ]
    },
    {
      "cell_type": "code",
      "source": [
        "# utilizando For dentro de um Range com Step\n",
        "for i in range(1,11,2):\n",
        "    print(i)"
      ],
      "metadata": {
        "colab": {
          "base_uri": "https://localhost:8080/"
        },
        "id": "0_IaywQUlXtY",
        "outputId": "e18b9d37-9371-4de9-e4da-6a69d155b065"
      },
      "execution_count": 28,
      "outputs": [
        {
          "output_type": "stream",
          "name": "stdout",
          "text": [
            "1\n",
            "3\n",
            "5\n",
            "7\n",
            "9\n"
          ]
        }
      ]
    },
    {
      "cell_type": "code",
      "source": [
        "# utilizando For para pecorrer o range especificado pelo usuário\n",
        "i = int(input(\"Número 1: \"))\n",
        "j = int(input(\"Número 2: \"))\n",
        "\n",
        "for i in range(i,j+1):\n",
        "    print(i)"
      ],
      "metadata": {
        "colab": {
          "base_uri": "https://localhost:8080/"
        },
        "id": "BZPaW32NlbNG",
        "outputId": "293f7ad0-b2b6-4191-f247-cd3229f413d4"
      },
      "execution_count": 29,
      "outputs": [
        {
          "output_type": "stream",
          "name": "stdout",
          "text": [
            "Número 1: 3\n",
            "Número 2: 9\n",
            "3\n",
            "4\n",
            "5\n",
            "6\n",
            "7\n",
            "8\n",
            "9\n"
          ]
        }
      ]
    },
    {
      "cell_type": "markdown",
      "source": [
        "### Try"
      ],
      "metadata": {
        "id": "8FILGzalj08N"
      }
    },
    {
      "cell_type": "code",
      "source": [
        "# utilizando Try para rolar os dados\n",
        "try:\n",
        "    print(\"Roletando dado...\")\n",
        "    dado = int(input(\"Qual número de 1 a 6 você acha que caiu? \"))\n",
        "\n",
        "    prob = 4\n",
        "\n",
        "    if dado < prob:\n",
        "        print(\"Tente um número maior\")\n",
        "    elif dado > prob:\n",
        "        print(\"Tente um número menor\")\n",
        "    else:\n",
        "        print(\"Boa! Você acertou\")\n",
        "\n",
        "except ValueError as erro:\n",
        "    print(\"Tente um número válido!\")"
      ],
      "metadata": {
        "colab": {
          "base_uri": "https://localhost:8080/"
        },
        "id": "y2yjzGwWlIqV",
        "outputId": "8794a9b1-7738-4845-f70b-a52ce37c390d"
      },
      "execution_count": 30,
      "outputs": [
        {
          "output_type": "stream",
          "name": "stdout",
          "text": [
            "Roletando dado...\n",
            "Qual número de 1 a 6 você acha que caiu? 5\n",
            "Tente um número menor\n"
          ]
        }
      ]
    },
    {
      "cell_type": "markdown",
      "source": [
        "## Exercícios"
      ],
      "metadata": {
        "id": "zlBJVwYBjSbl"
      }
    },
    {
      "cell_type": "code",
      "source": [
        "#Faça um programa que receba o nome e a idade de uma pessoa\n",
        "\n",
        "#Caso essa pessoa tenha menos de 18 anos, exiba o aviso:\n",
        "    #Fulano, você não pode dirigir e nem beber\n",
        "\n",
        "#Para pessoas entre 18 e 65 anos, exiba o aviso:\n",
        "    #Fulano, bebida liberada! Só não vale dirigir!\n",
        "\n",
        "#Para pessoas acima de 65 anos, exiba:\n",
        "    #Fulano, beba com muita moderação!\n",
        "nome = input(\"Digite seu nome: \")\n",
        "idade = int(input(\"Digite sua idade: \"))\n",
        "\n",
        "if idade < 18:\n",
        "    print(f\"{nome}, você não pode dirigir e nem beber.\")\n",
        "elif idade <= 65:\n",
        "    print(f\"{nome}, bebida liberada! Só não vale dirigir!\")\n",
        "else:\n",
        "    print(f\"{nome}, beba com muita moderação!\")"
      ],
      "metadata": {
        "colab": {
          "base_uri": "https://localhost:8080/"
        },
        "id": "_g3-0gkxlnL8",
        "outputId": "8d673091-177a-45e5-c115-f099da9fa6fc"
      },
      "execution_count": 31,
      "outputs": [
        {
          "output_type": "stream",
          "name": "stdout",
          "text": [
            "Digite seu nome: Nome\n",
            "Digite sua idade: 20\n",
            "Nome, bebida liberada! Só não vale dirigir!\n"
          ]
        }
      ]
    },
    {
      "cell_type": "code",
      "source": [
        "# Faça um programa que receba um número\n",
        "# Verifique se o número informado é par ou impar\n",
        "# Exiba o resultado da seguinte maneira\n",
        "\n",
        "# O núemro X é impar\n",
        "# ou\n",
        "# O número X é par\n",
        "num = int(input(\"Digite um número: \"))\n",
        "\n",
        "if num % 2 == 0:\n",
        "    print (f\"O número {num} é par\")\n",
        "else:\n",
        "    print (f\"O número {num} é impar\")"
      ],
      "metadata": {
        "colab": {
          "base_uri": "https://localhost:8080/"
        },
        "id": "9vAE6k3Ulnew",
        "outputId": "809e77eb-3de2-4947-f845-cb05b155e822"
      },
      "execution_count": 32,
      "outputs": [
        {
          "output_type": "stream",
          "name": "stdout",
          "text": [
            "Digite um número: 7\n",
            "O número 7 é impar\n"
          ]
        }
      ]
    },
    {
      "cell_type": "code",
      "source": [
        "# Faça um programa que receba um número\n",
        "# Verifique se esse número é primo ou não e então retorne o resultado:\n",
        "\n",
        "# O número X é primo\n",
        "# ou\n",
        "# O número X não é primo\n",
        "num = int(input(\"Digite um número: \"))\n",
        "\n",
        "flag = 0\n",
        "for i in range(2,num):\n",
        "    if num % i == 0:\n",
        "        flag = 1\n",
        "        break\n",
        "\n",
        "if flag == 1:\n",
        "    print(f\"O número {num} não é primo\")\n",
        "else:\n",
        "    print(f\"O número {num} é primo\")\n",
        "\n",
        "'''\n",
        "Os números primos são os números que possuem APENAS 2 divisores\n",
        "\n",
        "Chinesinho:\n",
        "* Vamos começar no número 2, pois todos os números são divisiveis por 1\n",
        "\n",
        "Então se pegamos o número 2 (único número par que é primo)\n",
        "O i começa valendo 2 e o num vale 2 também\n",
        "Se o num for dividido por i ele terá resto 0? Sim\n",
        "Então ele é primo\n",
        "\n",
        "Agora vamos pegar o 3\n",
        "O i começa valendo 2 e o num vale 3\n",
        "Se o num for dividido por 2 ele terá resto 0? Não\n",
        "Se o num for dividido por 3 ele terá resto 0? Sim\n",
        "Então ele é primo\n",
        "\n",
        "Agora vamos pegar o 4\n",
        "O i começa valendo 2 e o num vale 4\n",
        "Se o num for dividido por 2 ele terá resto 0? Sim\n",
        "Se o num for dividido por 3 ele terá resto 0? Não\n",
        "Se o num for dividido por 4 ele terá resto 0? Sim\n",
        "Então ele não é primo\n",
        "\n",
        "Agora vamos pegar o 5\n",
        "O i começa valendo 2 e o num vale 5\n",
        "Se o num for dividido por 2 ele terá resto 0? Não\n",
        "Se o num for dividido por 3 ele terá resto 0? Não\n",
        "Se o num for dividido por 4 ele terá resto 0? Não\n",
        "Se o num for dividido por 5 ele terá resto 0? Sim\n",
        "Então ele é primo\n",
        "\n",
        "Agora vamos pegar o 6\n",
        "O i começa valendo 2 e o num vale 6\n",
        "Se o num for dividido por 2 ele terá resto 0? Sim\n",
        "Se o num for dividido por 3 ele terá resto 0? Sim\n",
        "Se o num for dividido por 4 ele terá resto 0? Não\n",
        "Se o num for dividido por 5 ele terá resto 0? Não\n",
        "Se o num for dividido por 6 ele terá resto 0? Sim\n",
        "Então ele não é primo\n",
        "'''"
      ],
      "metadata": {
        "colab": {
          "base_uri": "https://localhost:8080/",
          "height": 157
        },
        "id": "ipIUf2yAlnm_",
        "outputId": "fac46d2b-7e7d-4cfd-96fc-432cc1b74480"
      },
      "execution_count": 33,
      "outputs": [
        {
          "output_type": "stream",
          "name": "stdout",
          "text": [
            "Digite um número: 2\n",
            "O número 2 é primo\n"
          ]
        },
        {
          "output_type": "execute_result",
          "data": {
            "text/plain": [
              "'\\nOs números primos são os números que possuem APENAS 2 divisores\\n\\nChinesinho:\\n* Vamos começar no número 2, pois todos os números são divisiveis por 1\\n\\nEntão se pegamos o número 2 (único número par que é primo)\\nO i começa valendo 2 e o num vale 2 também\\nSe o num for dividido por i ele terá resto 0? Sim\\nEntão ele é primo\\n\\nAgora vamos pegar o 3\\nO i começa valendo 2 e o num vale 3\\nSe o num for dividido por 2 ele terá resto 0? Não\\nSe o num for dividido por 3 ele terá resto 0? Sim\\nEntão ele é primo\\n\\nAgora vamos pegar o 4 \\nO i começa valendo 2 e o num vale 4\\nSe o num for dividido por 2 ele terá resto 0? Sim\\nSe o num for dividido por 3 ele terá resto 0? Não\\nSe o num for dividido por 4 ele terá resto 0? Sim\\nEntão ele não é primo\\n\\nAgora vamos pegar o 5\\nO i começa valendo 2 e o num vale 5\\nSe o num for dividido por 2 ele terá resto 0? Não\\nSe o num for dividido por 3 ele terá resto 0? Não\\nSe o num for dividido por 4 ele terá resto 0? Não\\nSe o num for dividido por 5 ele terá resto 0? Sim\\nEntão ele é primo\\n\\nAgora vamos pegar o 6\\nO i começa valendo 2 e o num vale 6\\nSe o num for dividido por 2 ele terá resto 0? Sim\\nSe o num for dividido por 3 ele terá resto 0? Sim\\nSe o num for dividido por 4 ele terá resto 0? Não\\nSe o num for dividido por 5 ele terá resto 0? Não\\nSe o num for dividido por 6 ele terá resto 0? Sim\\nEntão ele não é primo\\n'"
            ],
            "application/vnd.google.colaboratory.intrinsic+json": {
              "type": "string"
            }
          },
          "metadata": {},
          "execution_count": 33
        }
      ]
    },
    {
      "cell_type": "code",
      "source": [
        "# Escreva um programa que exiba os números de 1 a 100\n",
        "# Caso o número seja divisivel por 3, exiba \"Fizz\" no seu lugar,\n",
        "# Caso seja multiplo de 5, exiba \"Buzz\" e\n",
        "# Caso seja divisivel por ambos, exiba \"FizzBuzz\"\n",
        "for i in range(1,31):\n",
        "\n",
        "    msg = \"\"\n",
        "\n",
        "    if i % 3 == 0:\n",
        "        msg = msg + \"Fizz\"\n",
        "\n",
        "    if i % 5 == 0:\n",
        "        msg = msg + \"Buzz\"\n",
        "\n",
        "    if msg == \"\":\n",
        "        msg = i\n",
        "\n",
        "    print(msg)\n"
      ],
      "metadata": {
        "colab": {
          "base_uri": "https://localhost:8080/"
        },
        "id": "dKHicPXUlnwA",
        "outputId": "1c519a25-d67b-4f3a-cbbb-28edb37db10d"
      },
      "execution_count": 35,
      "outputs": [
        {
          "output_type": "stream",
          "name": "stdout",
          "text": [
            "1\n",
            "2\n",
            "Fizz\n",
            "4\n",
            "Buzz\n",
            "Fizz\n",
            "7\n",
            "8\n",
            "Fizz\n",
            "Buzz\n",
            "11\n",
            "Fizz\n",
            "13\n",
            "14\n",
            "FizzBuzz\n",
            "16\n",
            "17\n",
            "Fizz\n",
            "19\n",
            "Buzz\n",
            "Fizz\n",
            "22\n",
            "23\n",
            "Fizz\n",
            "Buzz\n",
            "26\n",
            "Fizz\n",
            "28\n",
            "29\n",
            "FizzBuzz\n"
          ]
        }
      ]
    },
    {
      "cell_type": "code",
      "source": [
        "# Escreva um programa que solicite ao usuário um número\n",
        "# e exiba a tabuada desse número de 1 a 10\n",
        "numero = int(input(\"Digite um número: \"))\n",
        "\n",
        "for i in range(1,11):\n",
        "    res = numero * i\n",
        "    print(f\"{numero} x {i} = {res}\")"
      ],
      "metadata": {
        "colab": {
          "base_uri": "https://localhost:8080/"
        },
        "id": "vqiLlVtDloBE",
        "outputId": "ccdc3a28-c9d5-459e-821b-4311c1927d20"
      },
      "execution_count": 36,
      "outputs": [
        {
          "output_type": "stream",
          "name": "stdout",
          "text": [
            "Digite um número: 10\n",
            "10 x 1 = 10\n",
            "10 x 2 = 20\n",
            "10 x 3 = 30\n",
            "10 x 4 = 40\n",
            "10 x 5 = 50\n",
            "10 x 6 = 60\n",
            "10 x 7 = 70\n",
            "10 x 8 = 80\n",
            "10 x 9 = 90\n",
            "10 x 10 = 100\n"
          ]
        }
      ]
    },
    {
      "cell_type": "markdown",
      "source": [
        "# Aula 03"
      ],
      "metadata": {
        "id": "DCXhIIelaYHi"
      }
    },
    {
      "cell_type": "markdown",
      "source": [
        "## Conteudo"
      ],
      "metadata": {
        "id": "qMfCiR8HZ5qR"
      }
    },
    {
      "cell_type": "markdown",
      "source": [
        "### String"
      ],
      "metadata": {
        "id": "1QXCl5lzaExM"
      }
    },
    {
      "cell_type": "code",
      "execution_count": 37,
      "metadata": {
        "colab": {
          "base_uri": "https://localhost:8080/"
        },
        "id": "e8vDUizIZ3g-",
        "outputId": "88a6016a-7d47-44fb-b18c-2624249f4a92"
      },
      "outputs": [
        {
          "output_type": "execute_result",
          "data": {
            "text/plain": [
              "str"
            ]
          },
          "metadata": {},
          "execution_count": 37
        }
      ],
      "source": [
        "# tipo String\n",
        "meu_nome = \"Meu nome\"\n",
        "type(meu_nome)"
      ]
    },
    {
      "cell_type": "code",
      "source": [
        "# convertendo a String para maiusculo\n",
        "meu_nome_upper = meu_nome.upper()\n",
        "print(meu_nome)\n",
        "print(meu_nome_upper)"
      ],
      "metadata": {
        "colab": {
          "base_uri": "https://localhost:8080/"
        },
        "id": "kt_tYhjgogGB",
        "outputId": "cb8b7027-3a24-47ff-aef4-2da67feb0ae5"
      },
      "execution_count": 38,
      "outputs": [
        {
          "output_type": "stream",
          "name": "stdout",
          "text": [
            "Meu nome\n",
            "MEU NOME\n"
          ]
        }
      ]
    },
    {
      "cell_type": "code",
      "source": [
        "# convertendo a String para minusculo\n",
        "meu_nome_lower = meu_nome.lower()\n",
        "print(meu_nome)\n",
        "print(meu_nome_lower)"
      ],
      "metadata": {
        "colab": {
          "base_uri": "https://localhost:8080/"
        },
        "id": "0V4dLhQnogDj",
        "outputId": "2e3a5407-e885-4f2b-f2a3-067553454523"
      },
      "execution_count": 39,
      "outputs": [
        {
          "output_type": "stream",
          "name": "stdout",
          "text": [
            "Meu nome\n",
            "meu nome\n"
          ]
        }
      ]
    },
    {
      "cell_type": "code",
      "source": [
        "# deixa a letra maiuscula para cada primeira letra\n",
        "meu_nome.title()"
      ],
      "metadata": {
        "colab": {
          "base_uri": "https://localhost:8080/",
          "height": 35
        },
        "id": "4j3kKRnaogAx",
        "outputId": "dac27045-0ed0-4108-8464-df0902bbb6e6"
      },
      "execution_count": 41,
      "outputs": [
        {
          "output_type": "execute_result",
          "data": {
            "text/plain": [
              "'Meu Nome'"
            ],
            "application/vnd.google.colaboratory.intrinsic+json": {
              "type": "string"
            }
          },
          "metadata": {},
          "execution_count": 41
        }
      ]
    },
    {
      "cell_type": "code",
      "source": [
        "# primeira posição do nome\n",
        "meu_nome[0]"
      ],
      "metadata": {
        "colab": {
          "base_uri": "https://localhost:8080/",
          "height": 35
        },
        "id": "XpT5uh2aof3K",
        "outputId": "355850ac-1160-45f0-d506-bb323dab2f19"
      },
      "execution_count": 42,
      "outputs": [
        {
          "output_type": "execute_result",
          "data": {
            "text/plain": [
              "'M'"
            ],
            "application/vnd.google.colaboratory.intrinsic+json": {
              "type": "string"
            }
          },
          "metadata": {},
          "execution_count": 42
        }
      ]
    },
    {
      "cell_type": "code",
      "source": [
        "# conta os caracteres\n",
        "len(meu_nome)"
      ],
      "metadata": {
        "colab": {
          "base_uri": "https://localhost:8080/"
        },
        "id": "Uj43tYheofpq",
        "outputId": "62ad03e5-9e0c-438b-bc42-c70eaefa4324"
      },
      "execution_count": 43,
      "outputs": [
        {
          "output_type": "execute_result",
          "data": {
            "text/plain": [
              "8"
            ]
          },
          "metadata": {},
          "execution_count": 43
        }
      ]
    },
    {
      "cell_type": "code",
      "source": [
        "# o ultimo caracter ja q len é 8\n",
        "meu_nome[7]"
      ],
      "metadata": {
        "id": "B3ET411Xdxhz",
        "colab": {
          "base_uri": "https://localhost:8080/",
          "height": 35
        },
        "outputId": "fbe02dc4-091b-4dbe-876b-7a3e5f1fd506"
      },
      "execution_count": 44,
      "outputs": [
        {
          "output_type": "execute_result",
          "data": {
            "text/plain": [
              "'e'"
            ],
            "application/vnd.google.colaboratory.intrinsic+json": {
              "type": "string"
            }
          },
          "metadata": {},
          "execution_count": 44
        }
      ]
    },
    {
      "cell_type": "code",
      "source": [
        "# agora já é possivel mudar o meu_nome, sem precisar usar len sempre\n",
        "meu_nome[len(meu_nome)-1]"
      ],
      "metadata": {
        "id": "gN3YCt_mdxsG",
        "colab": {
          "base_uri": "https://localhost:8080/",
          "height": 35
        },
        "outputId": "3093b945-659a-4c00-f35b-985c660e1a6a"
      },
      "execution_count": 45,
      "outputs": [
        {
          "output_type": "execute_result",
          "data": {
            "text/plain": [
              "'e'"
            ],
            "application/vnd.google.colaboratory.intrinsic+json": {
              "type": "string"
            }
          },
          "metadata": {},
          "execution_count": 45
        }
      ]
    },
    {
      "cell_type": "code",
      "source": [
        "# ultimo caracter\n",
        "meu_nome[-1]"
      ],
      "metadata": {
        "id": "_eM0nYdrdyD_",
        "colab": {
          "base_uri": "https://localhost:8080/",
          "height": 35
        },
        "outputId": "c39ea9fb-c8aa-4ad8-cf9f-a6997bf55d0d"
      },
      "execution_count": 46,
      "outputs": [
        {
          "output_type": "execute_result",
          "data": {
            "text/plain": [
              "'e'"
            ],
            "application/vnd.google.colaboratory.intrinsic+json": {
              "type": "string"
            }
          },
          "metadata": {},
          "execution_count": 46
        }
      ]
    },
    {
      "cell_type": "code",
      "source": [
        "# os 3 primeiros caracteres\n",
        "meu_nome[0:3] # start:stop"
      ],
      "metadata": {
        "id": "0pn7Qw50dyP6",
        "colab": {
          "base_uri": "https://localhost:8080/",
          "height": 35
        },
        "outputId": "fefed4ff-da5a-4320-9749-eff485f4f4ed"
      },
      "execution_count": 47,
      "outputs": [
        {
          "output_type": "execute_result",
          "data": {
            "text/plain": [
              "'Meu'"
            ],
            "application/vnd.google.colaboratory.intrinsic+json": {
              "type": "string"
            }
          },
          "metadata": {},
          "execution_count": 47
        }
      ]
    },
    {
      "cell_type": "code",
      "source": [
        "# remove o ultimo caracter da String\n",
        "meu_nome[0:-1]"
      ],
      "metadata": {
        "id": "6Sd2NA9cdycQ",
        "colab": {
          "base_uri": "https://localhost:8080/",
          "height": 35
        },
        "outputId": "14734344-8cb9-4069-c749-d043d66767b0"
      },
      "execution_count": 48,
      "outputs": [
        {
          "output_type": "execute_result",
          "data": {
            "text/plain": [
              "'Meu nom'"
            ],
            "application/vnd.google.colaboratory.intrinsic+json": {
              "type": "string"
            }
          },
          "metadata": {},
          "execution_count": 48
        }
      ]
    },
    {
      "cell_type": "code",
      "source": [
        "# remove os 2 ultimos caracteres da String\n",
        "meu_nome[:-2]"
      ],
      "metadata": {
        "colab": {
          "base_uri": "https://localhost:8080/",
          "height": 35
        },
        "id": "hFY4AyJQo4kA",
        "outputId": "2a8c719e-7822-4375-9c86-b86ee0e76155"
      },
      "execution_count": 49,
      "outputs": [
        {
          "output_type": "execute_result",
          "data": {
            "text/plain": [
              "'Meu no'"
            ],
            "application/vnd.google.colaboratory.intrinsic+json": {
              "type": "string"
            }
          },
          "metadata": {},
          "execution_count": 49
        }
      ]
    },
    {
      "cell_type": "code",
      "source": [
        "# começa a contar a partir do index 3\n",
        "meu_nome[3:]"
      ],
      "metadata": {
        "colab": {
          "base_uri": "https://localhost:8080/",
          "height": 35
        },
        "id": "M6G9SF0io4tz",
        "outputId": "95520ffb-db50-4ca8-a148-e00402d5a8da"
      },
      "execution_count": 50,
      "outputs": [
        {
          "output_type": "execute_result",
          "data": {
            "text/plain": [
              "' nome'"
            ],
            "application/vnd.google.colaboratory.intrinsic+json": {
              "type": "string"
            }
          },
          "metadata": {},
          "execution_count": 50
        }
      ]
    },
    {
      "cell_type": "code",
      "source": [
        "# start:stop:step\n",
        "meu_nome[3:8:3]"
      ],
      "metadata": {
        "colab": {
          "base_uri": "https://localhost:8080/",
          "height": 35
        },
        "id": "MgVvvmmLo5Fn",
        "outputId": "ccffea25-c961-41dd-d173-b4dfbcf587f8"
      },
      "execution_count": 88,
      "outputs": [
        {
          "output_type": "execute_result",
          "data": {
            "text/plain": [
              "' m'"
            ],
            "application/vnd.google.colaboratory.intrinsic+json": {
              "type": "string"
            }
          },
          "metadata": {},
          "execution_count": 88
        }
      ]
    },
    {
      "cell_type": "code",
      "source": [
        "# inverte a String\n",
        "meu_nome[::-1]"
      ],
      "metadata": {
        "colab": {
          "base_uri": "https://localhost:8080/",
          "height": 35
        },
        "id": "Y8srXAvBo5TV",
        "outputId": "41b614c6-9ded-476b-806a-2faa5a604af6"
      },
      "execution_count": 53,
      "outputs": [
        {
          "output_type": "execute_result",
          "data": {
            "text/plain": [
              "'emon ueM'"
            ],
            "application/vnd.google.colaboratory.intrinsic+json": {
              "type": "string"
            }
          },
          "metadata": {},
          "execution_count": 53
        }
      ]
    },
    {
      "cell_type": "markdown",
      "source": [
        "### Listas"
      ],
      "metadata": {
        "id": "lNpY2yZFpJJo"
      }
    },
    {
      "cell_type": "code",
      "source": [
        "# inicializa uma lista vazia\n",
        "lista = list()\n",
        "lista"
      ],
      "metadata": {
        "colab": {
          "base_uri": "https://localhost:8080/"
        },
        "id": "vwI_ff3zpQmW",
        "outputId": "c8da1374-b237-481c-bda7-0a74ecbbc8a2"
      },
      "execution_count": 54,
      "outputs": [
        {
          "output_type": "execute_result",
          "data": {
            "text/plain": [
              "[]"
            ]
          },
          "metadata": {},
          "execution_count": 54
        }
      ]
    },
    {
      "cell_type": "code",
      "source": [
        "# cria uma segunda lista\n",
        "outra_lista = [\"Meu\", \"Nome\", 26, \"Outro\", [\"Cachorro\", \"Gato\", \"Esquilo\"] ]\n",
        "outra_lista"
      ],
      "metadata": {
        "colab": {
          "base_uri": "https://localhost:8080/"
        },
        "id": "x3gk9SdlprAO",
        "outputId": "2a75edfa-5314-4317-c317-8b5c1a1d1a89"
      },
      "execution_count": 55,
      "outputs": [
        {
          "output_type": "execute_result",
          "data": {
            "text/plain": [
              "['Meu', 'Nome', 26, 'Outro', ['Cachorro', 'Gato', 'Esquilo']]"
            ]
          },
          "metadata": {},
          "execution_count": 55
        }
      ]
    },
    {
      "cell_type": "code",
      "source": [
        "# o primeiro elemento da lista (index 0)\n",
        "outra_lista[0]"
      ],
      "metadata": {
        "colab": {
          "base_uri": "https://localhost:8080/",
          "height": 35
        },
        "id": "ftWnu7oCprYu",
        "outputId": "7d046a77-26a0-4982-c53b-1d2a637004f1"
      },
      "execution_count": 56,
      "outputs": [
        {
          "output_type": "execute_result",
          "data": {
            "text/plain": [
              "'Meu'"
            ],
            "application/vnd.google.colaboratory.intrinsic+json": {
              "type": "string"
            }
          },
          "metadata": {},
          "execution_count": 56
        }
      ]
    },
    {
      "cell_type": "code",
      "source": [
        "# tamanho da lista\n",
        "len(outra_lista)"
      ],
      "metadata": {
        "colab": {
          "base_uri": "https://localhost:8080/"
        },
        "id": "nYaq2xGeprg8",
        "outputId": "1de4a8a3-7f88-4ef0-f0a5-6b1fd4a2500c"
      },
      "execution_count": 57,
      "outputs": [
        {
          "output_type": "execute_result",
          "data": {
            "text/plain": [
              "5"
            ]
          },
          "metadata": {},
          "execution_count": 57
        }
      ]
    },
    {
      "cell_type": "code",
      "source": [
        "# o ultimo elemento da lista e o tipo\n",
        "animals = outra_lista[-1]\n",
        "print(animals)\n",
        "print(type(animals))"
      ],
      "metadata": {
        "colab": {
          "base_uri": "https://localhost:8080/"
        },
        "id": "VJemeIhDprrR",
        "outputId": "6c9e06c8-6ade-41e5-91d5-971b155b7f00"
      },
      "execution_count": 58,
      "outputs": [
        {
          "output_type": "stream",
          "name": "stdout",
          "text": [
            "['Cachorro', 'Gato', 'Esquilo']\n",
            "<class 'list'>\n"
          ]
        }
      ]
    },
    {
      "cell_type": "code",
      "source": [
        "# similaridade de listas\n",
        "print(animals[-1])\n",
        "print(outra_lista[-1][-1])"
      ],
      "metadata": {
        "colab": {
          "base_uri": "https://localhost:8080/"
        },
        "id": "zgURVcMapr0P",
        "outputId": "ea01c93e-99dd-4932-c517-eb9c4ce5a3ff"
      },
      "execution_count": 89,
      "outputs": [
        {
          "output_type": "stream",
          "name": "stdout",
          "text": [
            "Esquilo\n",
            "Esquilo\n"
          ]
        }
      ]
    },
    {
      "cell_type": "code",
      "source": [
        "# o ultimo elemento da lista, mas apenas os 2 primeiros elementos da lista da lista\n",
        "print(outra_lista[-1][:2])"
      ],
      "metadata": {
        "colab": {
          "base_uri": "https://localhost:8080/"
        },
        "id": "mLNaYbAQwDqx",
        "outputId": "67635312-953a-463f-f780-cf8466f70398"
      },
      "execution_count": 90,
      "outputs": [
        {
          "output_type": "stream",
          "name": "stdout",
          "text": [
            "['Cachorro', 'Gato']\n"
          ]
        }
      ]
    },
    {
      "cell_type": "code",
      "source": [
        "# acessamos a lista na posição 3\n",
        "# pegamos o três primeiros caracteres\n",
        "# colocamos tudo em maiusculo\n",
        "print(outra_lista[3][0:3].upper())"
      ],
      "metadata": {
        "colab": {
          "base_uri": "https://localhost:8080/"
        },
        "id": "HuYldB-Tpr9E",
        "outputId": "68a802ce-ee5a-4a0c-a85e-755fc052508b"
      },
      "execution_count": 60,
      "outputs": [
        {
          "output_type": "stream",
          "name": "stdout",
          "text": [
            "OUT\n"
          ]
        }
      ]
    },
    {
      "cell_type": "code",
      "source": [
        "# calcula a média das idades na lista\n",
        "idades = [10,20,30,40,50,60,70,80,90,100]\n",
        "# média\n",
        "media = sum(idades)/len(idades)\n",
        "print(media)"
      ],
      "metadata": {
        "colab": {
          "base_uri": "https://localhost:8080/"
        },
        "id": "Fw65fcnGpsEp",
        "outputId": "6be5e46c-8f74-40f7-9bf6-397dcc19dcad"
      },
      "execution_count": 62,
      "outputs": [
        {
          "output_type": "stream",
          "name": "stdout",
          "text": [
            "55.0\n"
          ]
        }
      ]
    },
    {
      "cell_type": "code",
      "source": [
        "# também calcula a média das idades\n",
        "total = 0\n",
        "\n",
        "for i in idades:\n",
        "    total += i\n",
        "\n",
        "media = total/len(idades)\n",
        "print(media)"
      ],
      "metadata": {
        "colab": {
          "base_uri": "https://localhost:8080/"
        },
        "id": "PtoxF5TspsQk",
        "outputId": "6b5ccfa1-0cea-4799-f94d-f5ecb1225961"
      },
      "execution_count": 63,
      "outputs": [
        {
          "output_type": "stream",
          "name": "stdout",
          "text": [
            "55.0\n"
          ]
        }
      ]
    },
    {
      "cell_type": "code",
      "source": [
        "# ordena a lista\n",
        "idades.sort(reverse=True)\n",
        "idades"
      ],
      "metadata": {
        "colab": {
          "base_uri": "https://localhost:8080/"
        },
        "id": "-4CEUPBcpsYy",
        "outputId": "d32ffee8-c307-4338-a29c-5ba168d94dd5"
      },
      "execution_count": 64,
      "outputs": [
        {
          "output_type": "execute_result",
          "data": {
            "text/plain": [
              "[100, 90, 80, 70, 60, 50, 40, 30, 20, 10]"
            ]
          },
          "metadata": {},
          "execution_count": 64
        }
      ]
    },
    {
      "cell_type": "code",
      "source": [
        "# adiciona items a lista\n",
        "idades.append(150)\n",
        "idades"
      ],
      "metadata": {
        "colab": {
          "base_uri": "https://localhost:8080/"
        },
        "id": "7-uDLuczpshb",
        "outputId": "0c65e58e-bf00-485d-d342-ab4e7de78df9"
      },
      "execution_count": 65,
      "outputs": [
        {
          "output_type": "execute_result",
          "data": {
            "text/plain": [
              "[100, 90, 80, 70, 60, 50, 40, 30, 20, 10, 150]"
            ]
          },
          "metadata": {},
          "execution_count": 65
        }
      ]
    },
    {
      "cell_type": "code",
      "source": [
        "# adiciona uma nova lista\n",
        "novas_idades = [5,15,25,35,45,55,65,75,85,95]\n",
        "novas_idades"
      ],
      "metadata": {
        "colab": {
          "base_uri": "https://localhost:8080/"
        },
        "id": "yI8ZH2Bfps_R",
        "outputId": "96f5298b-9149-4edc-d0fa-d53d5836a0ec"
      },
      "execution_count": 66,
      "outputs": [
        {
          "output_type": "execute_result",
          "data": {
            "text/plain": [
              "[5, 15, 25, 35, 45, 55, 65, 75, 85, 95]"
            ]
          },
          "metadata": {},
          "execution_count": 66
        }
      ]
    },
    {
      "cell_type": "code",
      "source": [
        "# o append adiciona 1 elemento no final da lista\n",
        "idades.append(novas_idades)\n",
        "idades.remove(novas_idades)\n",
        "#idades.remove(novas_idades)\n",
        "idades"
      ],
      "metadata": {
        "colab": {
          "base_uri": "https://localhost:8080/"
        },
        "id": "ZXmPqsNNptIh",
        "outputId": "661a4b61-3ece-4562-f0bb-7453bc1a1366"
      },
      "execution_count": 67,
      "outputs": [
        {
          "output_type": "execute_result",
          "data": {
            "text/plain": [
              "[100, 90, 80, 70, 60, 50, 40, 30, 20, 10, 150]"
            ]
          },
          "metadata": {},
          "execution_count": 67
        }
      ]
    },
    {
      "cell_type": "code",
      "source": [
        "# o extend concatena as listas ao final da lista\n",
        "idades.extend(novas_idades) # fica mais leve\n",
        "# podemos ter o mesmo resultado com\n",
        "#idades = idades + novas_idades # fica mais pesado\n",
        "idades"
      ],
      "metadata": {
        "colab": {
          "base_uri": "https://localhost:8080/"
        },
        "id": "cxYbHaltptTi",
        "outputId": "4f287ea9-c519-4e33-e3ef-b657a2e4d8a7"
      },
      "execution_count": 68,
      "outputs": [
        {
          "output_type": "execute_result",
          "data": {
            "text/plain": [
              "[100,\n",
              " 90,\n",
              " 80,\n",
              " 70,\n",
              " 60,\n",
              " 50,\n",
              " 40,\n",
              " 30,\n",
              " 20,\n",
              " 10,\n",
              " 150,\n",
              " 5,\n",
              " 15,\n",
              " 25,\n",
              " 35,\n",
              " 45,\n",
              " 55,\n",
              " 65,\n",
              " 75,\n",
              " 85,\n",
              " 95]"
            ]
          },
          "metadata": {},
          "execution_count": 68
        }
      ]
    },
    {
      "cell_type": "code",
      "source": [
        "a = [1,2,3]\n",
        "b = a\n",
        "\n",
        "b.remove(2)\n",
        "print(b)\n",
        "print(a)"
      ],
      "metadata": {
        "colab": {
          "base_uri": "https://localhost:8080/"
        },
        "id": "2WuYWr7yqDME",
        "outputId": "ddb4307a-e0db-460d-8ec8-fc4a6c901e05"
      },
      "execution_count": 69,
      "outputs": [
        {
          "output_type": "stream",
          "name": "stdout",
          "text": [
            "[1, 3]\n",
            "[1, 3]\n"
          ]
        }
      ]
    },
    {
      "cell_type": "code",
      "source": [
        "a = [1,2,3]\n",
        "b = a.copy()\n",
        "#ou b = a[:]\n",
        "b.remove(2)\n",
        "print(b)\n",
        "print(a)\n"
      ],
      "metadata": {
        "colab": {
          "base_uri": "https://localhost:8080/"
        },
        "id": "FvEGSzYAqDUv",
        "outputId": "49b34ee8-310d-41d2-a7ef-0b8d49932f4e"
      },
      "execution_count": 70,
      "outputs": [
        {
          "output_type": "stream",
          "name": "stdout",
          "text": [
            "[1, 3]\n",
            "[1, 2, 3]\n"
          ]
        }
      ]
    },
    {
      "cell_type": "markdown",
      "source": [
        "### Tuplas"
      ],
      "metadata": {
        "id": "vW5QpJ_Nqjcg"
      }
    },
    {
      "cell_type": "code",
      "source": [
        "# inicializando a primeira tupla\n",
        "primeira_tupla = 1,2,3\n",
        "primeira_tupla"
      ],
      "metadata": {
        "colab": {
          "base_uri": "https://localhost:8080/"
        },
        "id": "cTdLB1Qbqkfc",
        "outputId": "9ff91d7e-bee1-4700-ff33-2ecab4a1a343"
      },
      "execution_count": 71,
      "outputs": [
        {
          "output_type": "execute_result",
          "data": {
            "text/plain": [
              "(1, 2, 3)"
            ]
          },
          "metadata": {},
          "execution_count": 71
        }
      ]
    },
    {
      "cell_type": "code",
      "source": [
        "# segunda tupla\n",
        "segunda_tupla = (4,5,6)\n",
        "segunda_tupla"
      ],
      "metadata": {
        "colab": {
          "base_uri": "https://localhost:8080/"
        },
        "id": "5SocyreHqmNN",
        "outputId": "f31d5fa5-beec-4eb8-e095-337313d4daa1"
      },
      "execution_count": 72,
      "outputs": [
        {
          "output_type": "execute_result",
          "data": {
            "text/plain": [
              "(4, 5, 6)"
            ]
          },
          "metadata": {},
          "execution_count": 72
        }
      ]
    },
    {
      "cell_type": "code",
      "source": [
        "# tupla para lista\n",
        "terceira_tupla = tuple([2,4,6])\n",
        "terceira_tupla"
      ],
      "metadata": {
        "colab": {
          "base_uri": "https://localhost:8080/"
        },
        "id": "3jNzMbxEqn2P",
        "outputId": "d327fe95-e020-4241-ad7e-0f41012e8a3d"
      },
      "execution_count": 73,
      "outputs": [
        {
          "output_type": "execute_result",
          "data": {
            "text/plain": [
              "(2, 4, 6)"
            ]
          },
          "metadata": {},
          "execution_count": 73
        }
      ]
    },
    {
      "cell_type": "code",
      "source": [
        "# lista para tupla\n",
        "list(terceira_tupla)"
      ],
      "metadata": {
        "colab": {
          "base_uri": "https://localhost:8080/"
        },
        "id": "XZWIbmE-qo6R",
        "outputId": "3b8cdae9-025e-4753-85b4-db092610f504"
      },
      "execution_count": 74,
      "outputs": [
        {
          "output_type": "execute_result",
          "data": {
            "text/plain": [
              "[2, 4, 6]"
            ]
          },
          "metadata": {},
          "execution_count": 74
        }
      ]
    },
    {
      "cell_type": "markdown",
      "source": [
        "### Dicionário"
      ],
      "metadata": {
        "id": "yybmkbyDro6a"
      }
    },
    {
      "cell_type": "code",
      "source": [
        "# inicializando um dicionario\n",
        "dicionario = {}"
      ],
      "metadata": {
        "id": "-c4BHqO1rusf"
      },
      "execution_count": null,
      "outputs": []
    },
    {
      "cell_type": "code",
      "source": [
        "# varificando o tipo da variavel\n",
        "type(dicionario)"
      ],
      "metadata": {
        "id": "KMn0TAo_rv1t"
      },
      "execution_count": null,
      "outputs": []
    },
    {
      "cell_type": "code",
      "source": [
        "# criando as chaves\n",
        "dicionario[\"nome\"] = \"Iago\"\n",
        "dicionario[\"lugar\"] = \"Brasilia\"\n",
        "dicionario[\"esporte\"] = \"Musculação\"\n",
        "dicionario[\"animal\"] = \"Cachorro\"\n",
        "dicionario[\"cor\"] = [\"Azul\", \"Roxo\", \"Preto\"]\n",
        "dicionario[\"fruta\"] = [{\"nome\":\"Banana\"},{\"nome\":\"Maça\"},{\"nome\":\"Mexerica\"}] # Criando uma lista dentro da chave\n",
        "dicionario[\"filme\"] = {\"nome\":\"Velozes e Furiosos\", \"genero\":\"ação\"} # Criando um dict dentro da chave\n",
        "dicionario"
      ],
      "metadata": {
        "id": "v8We5sqirwDg"
      },
      "execution_count": null,
      "outputs": []
    },
    {
      "cell_type": "code",
      "source": [
        "# acessando as chaves\n",
        "dicionario[\"filme\"][\"genero\"]"
      ],
      "metadata": {
        "id": "FM2U2slyrwNr"
      },
      "execution_count": null,
      "outputs": []
    },
    {
      "cell_type": "code",
      "source": [
        "# modificando um dicionario\n",
        "dicionario[\"filme\"][\"avaliação\"] = \"4.5\"\n",
        "dicionario"
      ],
      "metadata": {
        "id": "kttzatAgrwXx"
      },
      "execution_count": null,
      "outputs": []
    },
    {
      "cell_type": "code",
      "source": [
        "# inserindo dados de uma forma diferente\n",
        "dicionario[\"fruta\"].append({\"nome\": \"Goiaba\"})\n",
        "dicionario"
      ],
      "metadata": {
        "id": "yFAxoWHDrwk-"
      },
      "execution_count": null,
      "outputs": []
    },
    {
      "cell_type": "code",
      "source": [
        "# descobrindo as chaves do dicionario\n",
        "dicionario.keys()"
      ],
      "metadata": {
        "id": "fL2juV0TrwuW"
      },
      "execution_count": null,
      "outputs": []
    },
    {
      "cell_type": "code",
      "source": [
        "# descobrindo os valores das chaves\n",
        "dicionario.values()"
      ],
      "metadata": {
        "id": "FTK842eOsDJb"
      },
      "execution_count": null,
      "outputs": []
    },
    {
      "cell_type": "code",
      "source": [
        "# descobrindo os items (lista de tuplas)\n",
        "dicionario.items()"
      ],
      "metadata": {
        "id": "VkQDvp3asDbI"
      },
      "execution_count": null,
      "outputs": []
    },
    {
      "cell_type": "code",
      "source": [
        "# deletando chaves\n",
        "# neste caso a chave esporte seria deletada, porem seus valores ainda ficariam\n",
        "# na memoria ocupando espaço, já que os valores perderam o ponteiro esporte.\n",
        "# dicionario.pop(\"esporte\")\n",
        "\n",
        "# para deletar de fato a chave se usa o del\n",
        "del dicionario[\"esporte\"]\n",
        "dicionario"
      ],
      "metadata": {
        "id": "Ij8IYcrwsDjv"
      },
      "execution_count": null,
      "outputs": []
    },
    {
      "cell_type": "code",
      "source": [
        "# dicionarios são mutaveis, portanto vamos modificar o dicionario\n",
        "jogos = {\"nome\":\"CSGO\",\"genero\":\"FPS\"}\n",
        "mais_infos = {\"ano_lançamento\":2012,\n",
        "              \"online\":\"Sim\"}\n",
        "\n",
        "jogos.update(mais_infos)\n",
        "jogos"
      ],
      "metadata": {
        "id": "A2zai89HsDwy"
      },
      "execution_count": null,
      "outputs": []
    },
    {
      "cell_type": "markdown",
      "source": [
        "## Exercicios"
      ],
      "metadata": {
        "id": "LRXudpU2Z7HG"
      }
    },
    {
      "cell_type": "code",
      "source": [
        "# Escreva um programa que solicite ao usuário uma palavra\n",
        "# e verifique se a palavra é um palíndromo\n",
        "# ou seja, é a mesma palavra quando lida de tras para frente\n",
        "palavra = input(\"Digite uma palavra: \")\n",
        "\n",
        "if palavra.lower() == palavra[::-1].lower():\n",
        "    print(f\"A palavra {palavra} é um palíndromo\")\n",
        "else:\n",
        "    print(f\"A palavra {palavra} não é um palíndromo\")"
      ],
      "metadata": {
        "id": "kiP1zTzlaCPB",
        "colab": {
          "base_uri": "https://localhost:8080/"
        },
        "outputId": "01cb68eb-673b-4df6-f7fa-d43deeb79c1d"
      },
      "execution_count": 76,
      "outputs": [
        {
          "output_type": "stream",
          "name": "stdout",
          "text": [
            "Digite uma palavra: Arara\n",
            "A palavra Arara é um palíndromo\n"
          ]
        }
      ]
    },
    {
      "cell_type": "code",
      "source": [
        "# Faça um progrma que receba 4 notas de um aluno.\n",
        "# Retorne a média dessas notas\n",
        "# A menor e a maior\n",
        "nota1 = int(input(\"Digite sua nota 1: \"))\n",
        "nota2 = int(input(\"Digite sua nota 2: \"))\n",
        "nota3 = int(input(\"Digite sua nota 3: \"))\n",
        "nota4 = int(input(\"Digite sua nota 4: \"))\n",
        "\n",
        "notas = [nota1,nota2,nota3,nota4]\n",
        "\n",
        "media = int(sum(notas)/len(notas))\n",
        "\n",
        "'''\n",
        "aux = 0\n",
        "for i in notas:\n",
        "    aux += i\n",
        "\n",
        "media = int(aux/len(notas))\n",
        "'''\n",
        "\n",
        "print(f\"A média foi: {media}\")\n",
        "print(f\"A menor nota foi: {min(notas)}\")\n",
        "print(f\"A maior nota foi: {max(notas)}\")"
      ],
      "metadata": {
        "colab": {
          "base_uri": "https://localhost:8080/"
        },
        "id": "pQ3cwB4jqw-D",
        "outputId": "f984f4ef-f244-4686-df8b-55efb39cbdfd"
      },
      "execution_count": 77,
      "outputs": [
        {
          "output_type": "stream",
          "name": "stdout",
          "text": [
            "Digite sua nota 1: 7\n",
            "Digite sua nota 2: 4\n",
            "Digite sua nota 3: 5\n",
            "Digite sua nota 4: 8\n",
            "A média foi: 6\n",
            "A menor nota foi: 4\n",
            "A maior nota foi: 8\n"
          ]
        }
      ]
    },
    {
      "cell_type": "code",
      "source": [
        "# Conside a lista: [120, \"Python\", 120.01, \"asw\", False, [10,20]]\n",
        "# Faça um programa que retorne as seguintes informações:\n",
        "# O ELEMENTO na ultima posição da lista\n",
        "# O ELEMENTO na primeira posição da lista\n",
        "#\n",
        "lista = [120, \"Python\", 120.01, \"asw\", False, [10,20]]\n",
        "\n",
        "print(\"O ultimo elemento da lista:\", lista[-1])\n",
        "print(\"O primeiro elemento da lista:\", lista[0])\n",
        "print(\"O último caractere do segundo elemento da lista:\", lista[1][:-1] )"
      ],
      "metadata": {
        "colab": {
          "base_uri": "https://localhost:8080/"
        },
        "id": "l936PVnYqxha",
        "outputId": "1a9e98c6-77fd-4fab-acff-a247d5e1a302"
      },
      "execution_count": 78,
      "outputs": [
        {
          "output_type": "stream",
          "name": "stdout",
          "text": [
            "O ultimo elemento da lista: [10, 20]\n",
            "O primeiro elemento da lista: 120\n",
            "O último caractere do segundo elemento da lista: Pytho\n"
          ]
        }
      ]
    },
    {
      "cell_type": "code",
      "source": [
        "# Faça um programa que solicite ao usuário 2 strings\n",
        "# E as concatene em uma única String.\n",
        "# Em seguida, exiba a String resultante\n",
        "msg1 = input(\"Digite uma palavra: \")\n",
        "msg2 = input(\"Digite uma palavra: \")\n",
        "\n",
        "print(msg1 + msg2)"
      ],
      "metadata": {
        "colab": {
          "base_uri": "https://localhost:8080/"
        },
        "id": "PKfiBmz5qxq9",
        "outputId": "a064f84e-f0f7-47c0-d1b1-76de90fd6d71"
      },
      "execution_count": 79,
      "outputs": [
        {
          "output_type": "stream",
          "name": "stdout",
          "text": [
            "Digite uma palavra: Palavra\n",
            "Digite uma palavra: Alguma\n",
            "PalavraAlguma\n"
          ]
        }
      ]
    },
    {
      "cell_type": "code",
      "source": [
        "# Refaça o exercicio das notas utilizando for e\n",
        "# listas par receber as notas dos alunos\n",
        "notas = []\n",
        "\n",
        "for i in range(0,4):\n",
        "    n = float(input(f\"Entre com a nota {i+1}: \"))\n",
        "    notas.append(n)\n",
        "\n",
        "media = sum(notas)/len(notas)\n",
        "\n",
        "print(f\"A média foi: {media}\")\n",
        "print(f\"A menor nota foi: {min(notas)}\")\n",
        "print(f\"A maior nota foi: {max(notas)}\")"
      ],
      "metadata": {
        "colab": {
          "base_uri": "https://localhost:8080/"
        },
        "id": "6hzvF67Aqx0e",
        "outputId": "9d6a0f5c-11f5-4c74-f51c-30b9ee1992ec"
      },
      "execution_count": 80,
      "outputs": [
        {
          "output_type": "stream",
          "name": "stdout",
          "text": [
            "Entre com a nota 1: 7\n",
            "Entre com a nota 2: 8\n",
            "Entre com a nota 3: 2\n",
            "Entre com a nota 4: 9\n",
            "A média foi: 6.5\n",
            "A menor nota foi: 2.0\n",
            "A maior nota foi: 9.0\n"
          ]
        }
      ]
    },
    {
      "cell_type": "code",
      "source": [
        "# Faça um programa com uma função que recebe uma frase.\n",
        "# Para cada frase, inverta a ordem das letras.\n",
        "# Exiba o resultado\n",
        "msg = input(\"Escreva uma frase: \")\n",
        "\n",
        "aux = \"\"\n",
        "\n",
        "for i in msg.split():\n",
        "    aux += i[::-1] + \" \"\n",
        "\n",
        "print(aux)"
      ],
      "metadata": {
        "colab": {
          "base_uri": "https://localhost:8080/"
        },
        "id": "_XhQwfgtqx-Y",
        "outputId": "1ef9cdd3-6cc7-42bb-bd67-4ba04dd0f702"
      },
      "execution_count": 81,
      "outputs": [
        {
          "output_type": "stream",
          "name": "stdout",
          "text": [
            "Escreva uma frase: Frase\n",
            "esarF \n"
          ]
        }
      ]
    },
    {
      "cell_type": "code",
      "source": [
        "# Considera a seguinte lista: [123, 435, 987, 1984, 2, 19, 423, -178, 320]\n",
        "# Faça um programa que retorne a posição do menor e do maior valor encontrado:\n",
        "## O maior valor está na posição X\n",
        "## O menor valor está na posição Y\n",
        "list = [123, 435, 987, 1984, 2, 19, 423, -178, 320]\n",
        "\n",
        "maior = max(list)\n",
        "menor = min(list)\n",
        "\n",
        "menor_pos = list.index(menor)\n",
        "maior_pos = list.index(maior)\n",
        "\n",
        "print(f\"O menor valor está na posição {menor_pos}, o valor é {menor}\")\n",
        "print(f\"O maior valor está na posição {maior_pos}, o valor é {maior}\")"
      ],
      "metadata": {
        "colab": {
          "base_uri": "https://localhost:8080/"
        },
        "id": "j5SQmvJHqyH-",
        "outputId": "4e662df7-e1f9-4977-d709-38436dc1d2d6"
      },
      "execution_count": 82,
      "outputs": [
        {
          "output_type": "stream",
          "name": "stdout",
          "text": [
            "O menor valor está na posição 7, o valor é -178\n",
            "O maior valor está na posição 3, o valor é 1984\n"
          ]
        }
      ]
    },
    {
      "cell_type": "code",
      "source": [
        "# Escreva um programa que receba uma lista de números do usuário.\n",
        "# Conte quantas vezes um número específico aparece na lista.\n",
        "# Solicite ao usuário um número e exiba a contagem.\n",
        "num = []\n",
        "\n",
        "while True:\n",
        "    aux = input(\"Digite um número: \")\n",
        "    if aux == \"\":\n",
        "        break\n",
        "\n",
        "    num.append(int(aux))\n",
        "\n",
        "num_check = int(input(\"Entre com um número para checar a quantidade: \"))\n",
        "\n",
        "print(f\"O número {num_check} aparece {num.count(num_check)} vezes.\")\n",
        "\n",
        "'''\n",
        "total = 0\n",
        "for i in num:\n",
        "    if i == num_check:\n",
        "        total += 1\n",
        "\n",
        "print(f\"O número {num_check} aparece {total} vezes.\")\n",
        "'''"
      ],
      "metadata": {
        "colab": {
          "base_uri": "https://localhost:8080/",
          "height": 157
        },
        "id": "sbVjjkGIqyRy",
        "outputId": "0bcf4123-60e6-4727-88b7-848e4ae44146"
      },
      "execution_count": 83,
      "outputs": [
        {
          "output_type": "stream",
          "name": "stdout",
          "text": [
            "Digite um número: 8\n",
            "Digite um número: 4\n",
            "Digite um número: 4\n",
            "Digite um número: 1\n",
            "Digite um número: \n",
            "Entre com um número para checar a quantidade: 4\n",
            "O número 4 aparece 2 vezes.\n"
          ]
        },
        {
          "output_type": "execute_result",
          "data": {
            "text/plain": [
              "'\\ntotal = 0\\nfor i in num:\\n    if i == num_check:\\n        total += 1\\n\\nprint(f\"O número {num_check} aparece {total} vezes.\")\\n'"
            ],
            "application/vnd.google.colaboratory.intrinsic+json": {
              "type": "string"
            }
          },
          "metadata": {},
          "execution_count": 83
        }
      ]
    },
    {
      "cell_type": "markdown",
      "source": [
        "# Aula 4"
      ],
      "metadata": {
        "id": "9DYUQbNEst98"
      }
    },
    {
      "cell_type": "markdown",
      "source": [
        "## Conteudo"
      ],
      "metadata": {
        "id": "QkPVP1K9syrK"
      }
    },
    {
      "cell_type": "markdown",
      "source": [
        "### Funções"
      ],
      "metadata": {
        "id": "WxGZw1EPsz-o"
      }
    },
    {
      "cell_type": "code",
      "source": [
        "# inicializando e chamando uma função\n",
        "def helloworld():\n",
        "  print(\"Hello World!\")\n",
        "\n",
        "helloworld()"
      ],
      "metadata": {
        "colab": {
          "base_uri": "https://localhost:8080/"
        },
        "id": "Ec57l5LqFAK8",
        "outputId": "2ce57d07-f9a8-4d9f-d8dd-4e7c96ae2f8f"
      },
      "execution_count": 2,
      "outputs": [
        {
          "output_type": "stream",
          "name": "stdout",
          "text": [
            "Hello World!\n"
          ]
        }
      ]
    },
    {
      "cell_type": "code",
      "source": [
        "# executando uma função com parametro\n",
        "def imprime_nome(nome):\n",
        "  print(f\"Nome: {nome}\")\n",
        "\n",
        "imprime_nome(\"Primeiro Nome\")\n",
        "imprime_nome(\"Segundo Nome\")\n",
        "imprime_nome(\"Terceiro Nome\")"
      ],
      "metadata": {
        "colab": {
          "base_uri": "https://localhost:8080/"
        },
        "id": "6JAt94RxIinw",
        "outputId": "309a5236-4bd0-4416-c0e9-17c958290ac9"
      },
      "execution_count": 4,
      "outputs": [
        {
          "output_type": "stream",
          "name": "stdout",
          "text": [
            "Nome: Primeiro Nome\n",
            "Nome: Segundo Nome\n",
            "Nome: Terceiro Nome\n"
          ]
        }
      ]
    },
    {
      "cell_type": "code",
      "source": [
        "# adicionando valores padrão\n",
        "def jogo(nome=\"CSGO\",genero=\"FPS\"):\n",
        "  print(f\"O jogo {nome} é do genero {genero}\")\n",
        "\n",
        "jogo()\n",
        "jogo(\"LoL\",\"Moba\")"
      ],
      "metadata": {
        "colab": {
          "base_uri": "https://localhost:8080/"
        },
        "id": "BXV4DOBQI8fw",
        "outputId": "371cafab-8cce-4547-be8b-b20d2abf2f1b"
      },
      "execution_count": 5,
      "outputs": [
        {
          "output_type": "stream",
          "name": "stdout",
          "text": [
            "O jogo CSGO é do genero FPS\n",
            "O jogo LoL é do genero Moba\n"
          ]
        }
      ]
    },
    {
      "cell_type": "code",
      "source": [
        "# chamando a função com valores fora do escopo\n",
        "def computador(cpu='', armazenamento=0, memoria=0):\n",
        "    print(f'A configuração é: \\n- CPU: {cpu}\\n- Armazenamento: {armazenamento}Tb\\n- Memória: {memoria}Gb')\n",
        "\n",
        "computador('Intel Core i7', 2, 32)"
      ],
      "metadata": {
        "colab": {
          "base_uri": "https://localhost:8080/"
        },
        "id": "aY54Cdh0KdSR",
        "outputId": "3b3007a4-0464-45e4-83ff-25cf1bdbca4e"
      },
      "execution_count": 7,
      "outputs": [
        {
          "output_type": "stream",
          "name": "stdout",
          "text": [
            "A configuração é: \n",
            "- CPU: Intel Core i7\n",
            "- Armazenamento: 2Tb\n",
            "- Memória: 32Gb\n"
          ]
        }
      ]
    },
    {
      "cell_type": "code",
      "source": [
        "# criando função que recebe *args (recebe um número váriavel de parâmetros)\n",
        "# a função que utiliza *args recebe os argumentos em formato de tuplas.\n",
        "# cria um função que recebe apenas números maiores que 30\n",
        "def maior(*args):\n",
        "  print(args)\n",
        "\n",
        "  print(type(args))\n",
        "\n",
        "  for num in args:\n",
        "    if num > 30:\n",
        "      print(num)\n",
        "\n",
        "maior(10,15,20,25,30,35,40,45,50)"
      ],
      "metadata": {
        "colab": {
          "base_uri": "https://localhost:8080/"
        },
        "id": "PbGgtaAXLikb",
        "outputId": "f16368cd-4a5e-4f2e-da57-19f0197b9c5d"
      },
      "execution_count": 8,
      "outputs": [
        {
          "output_type": "stream",
          "name": "stdout",
          "text": [
            "(10, 15, 20, 25, 30, 35, 40, 45, 50)\n",
            "<class 'tuple'>\n",
            "35\n",
            "40\n",
            "45\n",
            "50\n"
          ]
        }
      ]
    },
    {
      "cell_type": "code",
      "source": [
        "# criando função que recebe **kwargs (recebe um número variado de parâmetros nomeados)\n",
        "# quando utilizamos **kwargs os dados são guardados em um dicionário\n",
        "def dados_pessoa(**kwargs):\n",
        "  print(kwargs)\n",
        "  print(type(kwargs))\n",
        "\n",
        "  for chave, valor in kwargs.items():\n",
        "    print(f\"{chave}:{valor}\")\n",
        "\n",
        "dados_pessoa(nome='Nome', idade=25, carreira='Cientista/Analista de dados')\n",
        "\n"
      ],
      "metadata": {
        "colab": {
          "base_uri": "https://localhost:8080/"
        },
        "id": "QMGIzD2mVuDY",
        "outputId": "aebc2356-298f-43d2-a5b1-5155b9553b8f"
      },
      "execution_count": 12,
      "outputs": [
        {
          "output_type": "stream",
          "name": "stdout",
          "text": [
            "{'nome': 'Nome', 'idade': 25, 'carreira': 'Cientista/Analista de dados'}\n",
            "<class 'dict'>\n",
            "nome:Nome\n",
            "idade:25\n",
            "carreira:Cientista/Analista de dados\n"
          ]
        }
      ]
    },
    {
      "cell_type": "code",
      "source": [
        "# função com retorno\n",
        "def soma(n1,n2):\n",
        "  soma = n1 + n2\n",
        "  return soma\n",
        "\n",
        "total_soma = soma(10,15)\n",
        "print(total_soma)\n",
        "print(soma(20,40))"
      ],
      "metadata": {
        "colab": {
          "base_uri": "https://localhost:8080/"
        },
        "id": "ICMtn4JzYYCU",
        "outputId": "1a85a62c-ba5e-4ccd-9c00-11007b0a1295"
      },
      "execution_count": 15,
      "outputs": [
        {
          "output_type": "stream",
          "name": "stdout",
          "text": [
            "25\n",
            "60\n"
          ]
        }
      ]
    },
    {
      "cell_type": "code",
      "source": [
        "# função com retorno variados\n",
        "def soma_media(num1, num2):\n",
        "  soma = num1 + num2\n",
        "  media = (num1 + num2)/2\n",
        "  return soma, media\n",
        "\n",
        "total_soma_media = soma_media(20,40)\n",
        "print(total_soma_media)\n",
        "print(soma_media(20,40))"
      ],
      "metadata": {
        "colab": {
          "base_uri": "https://localhost:8080/"
        },
        "id": "S97fqMh5Y98n",
        "outputId": "dc678aa2-dfd5-4577-bf78-ab55bdf58cf8"
      },
      "execution_count": 21,
      "outputs": [
        {
          "output_type": "stream",
          "name": "stdout",
          "text": [
            "(60, 30.0)\n",
            "(60, 30.0)\n"
          ]
        }
      ]
    },
    {
      "cell_type": "code",
      "source": [
        "# funções de linha única\n",
        "def soma (num1, num2): return num1 + num2\n",
        "def subtracao (num1, num2): return num1 - num2\n",
        "def divisao (num1, num2): return num1 // num2\n",
        "def multiplicacao (num1, num2): return num1 * num2\n",
        "\n",
        "print(soma(10,20))\n",
        "print(subtracao(20,10))\n",
        "print(divisao(20,10))\n",
        "print(multiplicacao(10,20))"
      ],
      "metadata": {
        "colab": {
          "base_uri": "https://localhost:8080/"
        },
        "id": "KeTA9_-PYvKw",
        "outputId": "faff2fee-8c33-41b0-b1ff-01cf97809715"
      },
      "execution_count": 22,
      "outputs": [
        {
          "output_type": "stream",
          "name": "stdout",
          "text": [
            "30\n",
            "10\n",
            "2\n",
            "200\n"
          ]
        }
      ]
    }
  ]
}